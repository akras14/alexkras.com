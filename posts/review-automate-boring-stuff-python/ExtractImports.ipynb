{
 "cells": [
  {
   "cell_type": "code",
   "execution_count": 2,
   "metadata": {
    "collapsed": false
   },
   "outputs": [],
   "source": [
    "import PyPDF2\n",
    "pdfFileObj = open('automate-the-boring-stuff-with-python.pdf', 'rb')\n",
    "pdfReader = PyPDF2.PdfFileReader(pdfFileObj)"
   ]
  },
  {
   "cell_type": "code",
   "execution_count": 37,
   "metadata": {
    "collapsed": false
   },
   "outputs": [],
   "source": [
    "numPages = pdfReader.numPages\n",
    "text = ''\n",
    "for i in range(0, numPages):\n",
    "    pageText = pdfReader.getPage(i).extractText()\n",
    "    text += pageText"
   ]
  },
  {
   "cell_type": "code",
   "execution_count": 49,
   "metadata": {
    "collapsed": false
   },
   "outputs": [],
   "source": [
    "import re\n",
    "importRe = re.compile(r'>>> import \\w+')\n",
    "mo = importRe.findall(text);\n",
    "matches = []\n",
    "for i in range(0, len(mo)):\n",
    "    impStr = mo[i][11:]\n",
    "    if impStr not in matches:\n",
    "        matches.append(impStr)\n",
    "result = '\\n'.join(sorted(matches, key=str.lower))\n",
    "\n",
    "# # print(text)"
   ]
  },
  {
   "cell_type": "code",
   "execution_count": 55,
   "metadata": {
    "collapsed": false
   },
   "outputs": [
    {
     "name": "stdout",
     "output_type": "stream",
     "text": [
      "bs4\n",
      "census2010\n",
      "copy\n",
      "csv\n",
      "datetime\n",
      "docx\n",
      "imapclient\n",
      "imaplib\n",
      "json\n",
      "logging\n",
      "myCats\n",
      "openpyxl\n",
      "openpyxlIf\n",
      "os\n",
      "pprint\n",
      "pyautogui\n",
      "PyPDF2\n",
      "pyperclip\n",
      "pyzmail\n",
      "readDocx\n",
      "reNOTE\n",
      "requests\n",
      "requestsIf\n",
      "send2trash\n",
      "shelve\n",
      "shutil\n",
      "smtplib\n",
      "subprocess\n",
      "threading\n",
      "time\n",
      "traceback\n",
      "webbrowser\n",
      "zipfile\n"
     ]
    }
   ],
   "source": [
    "print(result)\n",
    "f = open('results.txt', 'w')\n",
    "f.write(result)\n",
    "f.close()"
   ]
  },
  {
   "cell_type": "code",
   "execution_count": null,
   "metadata": {
    "collapsed": true
   },
   "outputs": [],
   "source": []
  }
 ],
 "metadata": {
  "kernelspec": {
   "display_name": "Python 3",
   "language": "python",
   "name": "python3"
  },
  "language_info": {
   "codemirror_mode": {
    "name": "ipython",
    "version": 3
   },
   "file_extension": ".py",
   "mimetype": "text/x-python",
   "name": "python",
   "nbconvert_exporter": "python",
   "pygments_lexer": "ipython3",
   "version": "3.5.0"
  }
 },
 "nbformat": 4,
 "nbformat_minor": 0
}
